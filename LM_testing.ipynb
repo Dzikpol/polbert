{
  "nbformat": 4,
  "nbformat_minor": 0,
  "metadata": {
    "colab": {
      "name": "LM_testing",
      "provenance": [],
      "collapsed_sections": []
    },
    "kernelspec": {
      "name": "python3",
      "display_name": "Python 3"
    }
  },
  "cells": [
    {
      "cell_type": "code",
      "metadata": {
        "id": "4plQGMAwOl6q",
        "colab_type": "code",
        "outputId": "5f38cfc4-d00b-4ce5-c940-c53e0d0ddfc0",
        "colab": {
          "base_uri": "https://localhost:8080/",
          "height": 105
        }
      },
      "source": [
        "!pip install transformers -q"
      ],
      "execution_count": 1,
      "outputs": [
        {
          "output_type": "stream",
          "text": [
            "\u001b[K     |████████████████████████████████| 665kB 2.8MB/s \n",
            "\u001b[K     |████████████████████████████████| 890kB 14.0MB/s \n",
            "\u001b[K     |████████████████████████████████| 1.1MB 17.8MB/s \n",
            "\u001b[K     |████████████████████████████████| 3.8MB 25.6MB/s \n",
            "\u001b[?25h  Building wheel for sacremoses (setup.py) ... \u001b[?25l\u001b[?25hdone\n"
          ],
          "name": "stdout"
        }
      ]
    },
    {
      "cell_type": "code",
      "metadata": {
        "id": "_fqjehX-30uM",
        "colab_type": "code",
        "colab": {}
      },
      "source": [
        "from transformers import *"
      ],
      "execution_count": 0,
      "outputs": []
    },
    {
      "cell_type": "markdown",
      "metadata": {
        "id": "kaTs5u53dV1T",
        "colab_type": "text"
      },
      "source": [
        "# Uncased"
      ]
    },
    {
      "cell_type": "code",
      "metadata": {
        "id": "29aj6NBk340w",
        "colab_type": "code",
        "colab": {}
      },
      "source": [
        "model = BertForMaskedLM.from_pretrained(\"dkleczek/bert-base-polish-uncased-v1\")\n",
        "tokenizer = BertTokenizer.from_pretrained(\"dkleczek/bert-base-polish-uncased-v1\")\n",
        "nlp = pipeline('fill-mask', model=model, tokenizer=tokenizer)"
      ],
      "execution_count": 0,
      "outputs": []
    },
    {
      "cell_type": "code",
      "metadata": {
        "id": "XIGynrZP34UV",
        "colab_type": "code",
        "outputId": "6958f6f3-481e-46d9-c467-7fcfcdcb0eb5",
        "colab": {
          "base_uri": "https://localhost:8080/",
          "height": 105
        }
      },
      "source": [
        "for pred in nlp(f\"Adam Mickiewicz wielkim polskim {nlp.tokenizer.mask_token} był.\"):\n",
        "  print(pred)"
      ],
      "execution_count": 4,
      "outputs": [
        {
          "output_type": "stream",
          "text": [
            "{'sequence': '[CLS] adam mickiewicz wielkim polskim poeta był. [SEP]', 'score': 0.47196584939956665, 'token': 26596}\n",
            "{'sequence': '[CLS] adam mickiewicz wielkim polskim bohaterem był. [SEP]', 'score': 0.09127957373857498, 'token': 10953}\n",
            "{'sequence': '[CLS] adam mickiewicz wielkim polskim człowiekiem był. [SEP]', 'score': 0.06471802294254303, 'token': 5182}\n",
            "{'sequence': '[CLS] adam mickiewicz wielkim polskim pisarzem był. [SEP]', 'score': 0.05232365056872368, 'token': 24293}\n",
            "{'sequence': '[CLS] adam mickiewicz wielkim polskim politykiem był. [SEP]', 'score': 0.04554254189133644, 'token': 44095}\n"
          ],
          "name": "stdout"
        }
      ]
    },
    {
      "cell_type": "code",
      "metadata": {
        "id": "4KhLGDTGeBJP",
        "colab_type": "code",
        "colab": {
          "base_uri": "https://localhost:8080/",
          "height": 34
        },
        "outputId": "00005c15-efe2-4e40-d357-994adbda7cc5"
      },
      "source": [
        "tokenizer.tokenize('Żółtość Gęślą jaźń')"
      ],
      "execution_count": 11,
      "outputs": [
        {
          "output_type": "execute_result",
          "data": {
            "text/plain": [
              "['zo', '##ł', '##tos', '##c', 'ges', '##la', 'jaz', '##n']"
            ]
          },
          "metadata": {
            "tags": []
          },
          "execution_count": 11
        }
      ]
    },
    {
      "cell_type": "markdown",
      "metadata": {
        "id": "gd11EY6EdYC3",
        "colab_type": "text"
      },
      "source": [
        "# Cased"
      ]
    },
    {
      "cell_type": "code",
      "metadata": {
        "id": "ptdR1Te9dUUz",
        "colab_type": "code",
        "colab": {}
      },
      "source": [
        "model = BertForMaskedLM.from_pretrained(\"dkleczek/bert-base-polish-cased-v1\")\n",
        "tokenizer = BertTokenizer.from_pretrained(\"dkleczek/bert-base-polish-cased-v1\")\n",
        "nlp = pipeline('fill-mask', model=model, tokenizer=tokenizer)"
      ],
      "execution_count": 0,
      "outputs": []
    },
    {
      "cell_type": "code",
      "metadata": {
        "id": "hpgU5nnVdfAy",
        "colab_type": "code",
        "colab": {
          "base_uri": "https://localhost:8080/",
          "height": 105
        },
        "outputId": "7936e4af-a326-4974-cd00-a04fc3ba125e"
      },
      "source": [
        "for pred in nlp(f\"Adam Mickiewicz wielkim polskim {nlp.tokenizer.mask_token} był.\"):\n",
        "  print(pred)"
      ],
      "execution_count": 6,
      "outputs": [
        {
          "output_type": "stream",
          "text": [
            "{'sequence': '[CLS] Adam Mickiewicz wielkim polskim pisarzem był. [SEP]', 'score': 0.5391148328781128, 'token': 37120}\n",
            "{'sequence': '[CLS] Adam Mickiewicz wielkim polskim człowiekiem był. [SEP]', 'score': 0.11683262139558792, 'token': 6810}\n",
            "{'sequence': '[CLS] Adam Mickiewicz wielkim polskim bohaterem był. [SEP]', 'score': 0.06021466106176376, 'token': 17709}\n",
            "{'sequence': '[CLS] Adam Mickiewicz wielkim polskim mistrzem był. [SEP]', 'score': 0.051870670169591904, 'token': 14652}\n",
            "{'sequence': '[CLS] Adam Mickiewicz wielkim polskim artystą był. [SEP]', 'score': 0.031787533313035965, 'token': 35680}\n"
          ],
          "name": "stdout"
        }
      ]
    },
    {
      "cell_type": "code",
      "metadata": {
        "id": "aOOl9Qx2dgin",
        "colab_type": "code",
        "colab": {
          "base_uri": "https://localhost:8080/",
          "height": 34
        },
        "outputId": "743ad782-6319-4003-d2d1-f631f7b04a71"
      },
      "source": [
        "tokenizer.tokenize('Żółtość Gęślą jaźń')"
      ],
      "execution_count": 9,
      "outputs": [
        {
          "output_type": "execute_result",
          "data": {
            "text/plain": [
              "['Żół', '##tość', 'Gę', '##ślą', 'ja', '##źń']"
            ]
          },
          "metadata": {
            "tags": []
          },
          "execution_count": 9
        }
      ]
    },
    {
      "cell_type": "code",
      "metadata": {
        "id": "JyHADHNud-6Q",
        "colab_type": "code",
        "colab": {}
      },
      "source": [
        ""
      ],
      "execution_count": 0,
      "outputs": []
    }
  ]
}